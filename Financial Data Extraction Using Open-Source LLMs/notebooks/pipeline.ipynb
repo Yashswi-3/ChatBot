{
 "cells": [
  {
   "cell_type": "code",
   "execution_count": 1,
   "metadata": {},
   "outputs": [
    {
     "ename": "ModuleNotFoundError",
     "evalue": "No module named 'scripts.extraction'",
     "output_type": "error",
     "traceback": [
      "\u001b[1;31m---------------------------------------------------------------------------\u001b[0m",
      "\u001b[1;31mModuleNotFoundError\u001b[0m                       Traceback (most recent call last)",
      "Cell \u001b[1;32mIn[1], line 2\u001b[0m\n\u001b[0;32m      1\u001b[0m \u001b[38;5;66;03m# Import necessary modules\u001b[39;00m\n\u001b[1;32m----> 2\u001b[0m \u001b[38;5;28;01mfrom\u001b[39;00m\u001b[38;5;250m \u001b[39m\u001b[38;5;21;01mscripts\u001b[39;00m\u001b[38;5;21;01m.\u001b[39;00m\u001b[38;5;21;01mextraction\u001b[39;00m\u001b[38;5;250m \u001b[39m\u001b[38;5;28;01mimport\u001b[39;00m extract_text_from_pdf\n\u001b[0;32m      3\u001b[0m \u001b[38;5;28;01mfrom\u001b[39;00m\u001b[38;5;250m \u001b[39m\u001b[38;5;21;01mscripts\u001b[39;00m\u001b[38;5;21;01m.\u001b[39;00m\u001b[38;5;21;01manalysis\u001b[39;00m\u001b[38;5;250m \u001b[39m\u001b[38;5;28;01mimport\u001b[39;00m extract_financial_data\n\u001b[0;32m      4\u001b[0m \u001b[38;5;28;01mfrom\u001b[39;00m\u001b[38;5;250m \u001b[39m\u001b[38;5;21;01mscripts\u001b[39;00m\u001b[38;5;21;01m.\u001b[39;00m\u001b[38;5;21;01mformatting\u001b[39;00m\u001b[38;5;250m \u001b[39m\u001b[38;5;28;01mimport\u001b[39;00m format_to_json\n",
      "\u001b[1;31mModuleNotFoundError\u001b[0m: No module named 'scripts.extraction'"
     ]
    }
   ],
   "source": [
    "# Import necessary modules\n",
    "from scripts.extraction import extract_text_from_pdf\n",
    "from scripts.analysis import extract_financial_data\n",
    "from scripts.formatting import format_to_json\n",
    "\n",
    "# Step 1: Extract text from PDF\n",
    "pdf_path = r\"C:\\Users\\yashswi shukla\\Desktop\\Project\\ChatBot\\Financial Data Extraction Using Open-Source LLMs\\data\\raw_pdfs\\1_FinancialResults_05022025142214.pdf\"\n",
    "extracted_text = extract_text_from_pdf(pdf_path)\n",
    "\n",
    "# Step 2: Extract financial data using Hugging Face BERT-based model\n",
    "financial_data = extract_financial_data(extracted_text)\n",
    "\n",
    "# Step 3: Format the extracted data into JSON\n",
    "formatted_json = format_to_json(financial_data)\n",
    "\n",
    "# Step 4: Display the final output\n",
    "print(formatted_json)\n"
   ]
  },
  {
   "cell_type": "code",
   "execution_count": null,
   "metadata": {},
   "outputs": [],
   "source": []
  }
 ],
 "metadata": {
  "kernelspec": {
   "display_name": "pytorch_env",
   "language": "python",
   "name": "python3"
  },
  "language_info": {
   "codemirror_mode": {
    "name": "ipython",
    "version": 3
   },
   "file_extension": ".py",
   "mimetype": "text/x-python",
   "name": "python",
   "nbconvert_exporter": "python",
   "pygments_lexer": "ipython3",
   "version": "3.11.11"
  }
 },
 "nbformat": 4,
 "nbformat_minor": 2
}
