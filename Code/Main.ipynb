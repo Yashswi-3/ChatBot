{
 "cells": [
  {
   "cell_type": "code",
   "execution_count": 2,
   "metadata": {},
   "outputs": [
    {
     "name": "stdout",
     "output_type": "stream",
     "text": [
      "EvereaIdnyd ustrIinedsiL at d.\n",
      "EVER�E ADY REGOO.F FI:C2 E,R ainPeayrK ko,l k-a7t0a0 019\n",
      "CNl: L 31402WB1934PLC007993\n",
      "GIVEM E POWER,\n",
      "GIVEM ERED\n",
      "Dat5the F:e br2u0a2r5y\n",
      "ThNea tiSotnoaEclxk c haonfg BeS EL imited ThCea lcSuttoEtcxakc hange\n",
      "IndLitad PhirJoezeej eebhLoiym ited\n",
      "ExchaPnlgaCez- a1B,,l oGc,k ToweDraslS,at lr eet7 L, yoRnasn ge\n",
      "BandKruarC loam plex Mumb-a4i00 00 1 Kolk-a7t00a00I\n",
      "Band(rEMa)u, m b-a4i00 05 1 [ScCroidp5e 3:1 508[]S cCroidp0e 0:0 029]\n",
      "[SymEbVoElR:E ADY]\n",
      "DeaSri/ rM sadam,\n",
      "SubD:i\n"
     ]
    }
   ],
   "source": [
    "import pdfplumber\n",
    "\n",
    "def extract_pdf_text(pdf_path):\n",
    "    with pdfplumber.open(pdf_path) as pdf:\n",
    "        text = \"\"\n",
    "        for page in pdf.pages:\n",
    "            text += page.extract_text()\n",
    "    return text\n",
    "\n",
    "pdf_path = r\"C:\\Users\\yashswi shukla\\Desktop\\Project\\ChatBot\\1_FinancialResults_05022025142214.pdf\"\n",
    "pdf_text = extract_pdf_text(pdf_path)\n",
    "print(pdf_text[:500])  # Print the first 500 characters of extracted text\n"
   ]
  },
  {
   "cell_type": "code",
   "execution_count": 3,
   "metadata": {},
   "outputs": [
    {
     "name": "stderr",
     "output_type": "stream",
     "text": [
      "unknown widths : \n",
      "[0, IndirectObject(138, 0, 1498564887504)]\n",
      "unknown widths : \n",
      "[0, IndirectObject(142, 0, 1498564887504)]\n",
      "unknown widths : \n",
      "[0, IndirectObject(146, 0, 1498564887504)]\n",
      "unknown widths : \n",
      "[0, IndirectObject(150, 0, 1498564887504)]\n",
      "unknown widths : \n",
      "[0, IndirectObject(154, 0, 1498564887504)]\n",
      "unknown widths : \n",
      "[0, IndirectObject(158, 0, 1498564887504)]\n",
      "unknown widths : \n",
      "[0, IndirectObject(162, 0, 1498564887504)]\n",
      "unknown widths : \n",
      "[0, IndirectObject(166, 0, 1498564887504)]\n",
      "unknown widths : \n",
      "[0, IndirectObject(170, 0, 1498564887504)]\n",
      "unknown widths : \n",
      "[0, IndirectObject(174, 0, 1498564887504)]\n",
      "unknown widths : \n",
      "[0, IndirectObject(178, 0, 1498564887504)]\n",
      "unknown widths : \n",
      "[0, IndirectObject(182, 0, 1498564887504)]\n"
     ]
    },
    {
     "name": "stdout",
     "output_type": "stream",
     "text": [
      "EVEREADY � GIVE ME POWER, \n",
      "GIVE MERED \n",
      "Date: 5th February 2025 \n",
      "The National Stock Exchange of \n",
      "India Ltd \n",
      "Exchange Plaza, C-1, Block G, \n",
      "Bandra Kurla Complex \n",
      "Bandra (E), Mumbai -400 051 \n",
      "[Symbol: EVEREADY] \n",
      "Dear Sirs/ Madam, BSE Limited \n",
      "Phiroze Jeejeebhoy \n",
      "Towers, Dalal Street \n",
      "Mumbai -400 001 \n",
      "[Scrip Code: 531508] Eveready Industries India Ltd. \n",
      "REGO. OFFICE: 2, Rainey Park, Kolkata -700019 \n",
      "Cl N: L31402WB1934PLC007993 \n",
      "The Calcutta Stock Exchange \n",
      "Limited \n",
      "7, Lyons Range \n",
      "Kolkata -700 00 I \n"
     ]
    }
   ],
   "source": [
    "import PyPDF2\n",
    "\n",
    "def extract_pdf_text_pypdf2(pdf_path):\n",
    "    with open(pdf_path, 'rb') as file:\n",
    "        reader = PyPDF2.PdfReader(file)\n",
    "        text = \"\"\n",
    "        for page in range(len(reader.pages)):\n",
    "            text += reader.pages[page].extract_text()\n",
    "    return text\n",
    "\n",
    "pdf_path = r\"C:\\Users\\yashswi shukla\\Desktop\\Project\\ChatBot\\1_FinancialResults_05022025142214.pdf\"\n",
    "pdf_text = extract_pdf_text_pypdf2(pdf_path)\n",
    "print(pdf_text[:500])\n"
   ]
  },
  {
   "cell_type": "code",
   "execution_count": 5,
   "metadata": {},
   "outputs": [
    {
     "ename": "FileNotFoundError",
     "evalue": "[Errno 2] No such file or directory: '1_FinancialResults_05022025142214.pdf'",
     "output_type": "error",
     "traceback": [
      "\u001b[1;31m---------------------------------------------------------------------------\u001b[0m",
      "\u001b[1;31mFileNotFoundError\u001b[0m                         Traceback (most recent call last)",
      "Cell \u001b[1;32mIn[5], line 5\u001b[0m\n\u001b[0;32m      2\u001b[0m \u001b[38;5;28;01mimport\u001b[39;00m\u001b[38;5;250m \u001b[39m\u001b[38;5;21;01mre\u001b[39;00m\n\u001b[0;32m      4\u001b[0m \u001b[38;5;66;03m# Open the PDF\u001b[39;00m\n\u001b[1;32m----> 5\u001b[0m \u001b[38;5;28;01mwith\u001b[39;00m \u001b[43mpdfplumber\u001b[49m\u001b[38;5;241;43m.\u001b[39;49m\u001b[43mopen\u001b[49m\u001b[43m(\u001b[49m\u001b[38;5;124;43m\"\u001b[39;49m\u001b[38;5;124;43m1_FinancialResults_05022025142214.pdf\u001b[39;49m\u001b[38;5;124;43m\"\u001b[39;49m\u001b[43m)\u001b[49m \u001b[38;5;28;01mas\u001b[39;00m pdf:\n\u001b[0;32m      6\u001b[0m     text \u001b[38;5;241m=\u001b[39m \u001b[38;5;124m\"\u001b[39m\u001b[38;5;124m\"\u001b[39m\n\u001b[0;32m      7\u001b[0m     \u001b[38;5;66;03m# Extract text from each page\u001b[39;00m\n",
      "File \u001b[1;32mc:\\ProgramData\\miniconda3\\envs\\pytorch_env\\Lib\\site-packages\\pdfplumber\\pdf.py:95\u001b[0m, in \u001b[0;36mPDF.open\u001b[1;34m(cls, path_or_fp, pages, laparams, password, strict_metadata, unicode_norm, repair, gs_path, repair_setting, raise_unicode_errors)\u001b[0m\n\u001b[0;32m     93\u001b[0m     path \u001b[38;5;241m=\u001b[39m \u001b[38;5;28;01mNone\u001b[39;00m\n\u001b[0;32m     94\u001b[0m \u001b[38;5;28;01melif\u001b[39;00m \u001b[38;5;28misinstance\u001b[39m(path_or_fp, (\u001b[38;5;28mstr\u001b[39m, pathlib\u001b[38;5;241m.\u001b[39mPath)):\n\u001b[1;32m---> 95\u001b[0m     stream \u001b[38;5;241m=\u001b[39m \u001b[38;5;28;43mopen\u001b[39;49m\u001b[43m(\u001b[49m\u001b[43mpath_or_fp\u001b[49m\u001b[43m,\u001b[49m\u001b[43m \u001b[49m\u001b[38;5;124;43m\"\u001b[39;49m\u001b[38;5;124;43mrb\u001b[39;49m\u001b[38;5;124;43m\"\u001b[39;49m\u001b[43m)\u001b[49m\n\u001b[0;32m     96\u001b[0m     stream_is_external \u001b[38;5;241m=\u001b[39m \u001b[38;5;28;01mFalse\u001b[39;00m\n\u001b[0;32m     97\u001b[0m     path \u001b[38;5;241m=\u001b[39m pathlib\u001b[38;5;241m.\u001b[39mPath(path_or_fp)\n",
      "\u001b[1;31mFileNotFoundError\u001b[0m: [Errno 2] No such file or directory: '1_FinancialResults_05022025142214.pdf'"
     ]
    }
   ],
   "source": [
    "import pdfplumber\n",
    "import re\n",
    "\n",
    "# Open the PDF\n",
    "with pdfplumber.open(\"1_FinancialResults_05022025142214.pdf\") as pdf:\n",
    "    text = \"\"\n",
    "    # Extract text from each page\n",
    "    for page in pdf.pages:\n",
    "        page_text = page.extract_text()\n",
    "        \n",
    "        # Clean the text by removing unwanted headers/footers\n",
    "        # (This step will depend on the structure of the PDF)\n",
    "        page_text = re.sub(r\"\\nPage \\d+\", \"\", page_text)  # Removing page numbers\n",
    "        page_text = re.sub(r\"Your Document Title\", \"\", page_text)  # Removing specific headers\n",
    "        \n",
    "        # Add cleaned page text to the full text\n",
    "        text += page_text\n",
    "\n",
    "# Remove extra whitespaces and special characters\n",
    "clean_text = re.sub(r'\\s+', ' ', text)  # Replace multiple whitespaces with a single space\n",
    "clean_text = re.sub(r'[^\\w\\s,.-]', '', clean_text)  # Remove non-alphanumeric characters except common punctuation\n",
    "\n",
    "print(clean_text)\n"
   ]
  },
  {
   "cell_type": "code",
   "execution_count": null,
   "metadata": {},
   "outputs": [],
   "source": []
  }
 ],
 "metadata": {
  "kernelspec": {
   "display_name": "pytorch_env",
   "language": "python",
   "name": "python3"
  },
  "language_info": {
   "codemirror_mode": {
    "name": "ipython",
    "version": 3
   },
   "file_extension": ".py",
   "mimetype": "text/x-python",
   "name": "python",
   "nbconvert_exporter": "python",
   "pygments_lexer": "ipython3",
   "version": "3.11.11"
  }
 },
 "nbformat": 4,
 "nbformat_minor": 2
}
